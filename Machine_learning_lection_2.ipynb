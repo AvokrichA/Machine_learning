{
  "nbformat": 4,
  "nbformat_minor": 0,
  "metadata": {
    "colab": {
      "provenance": [],
      "authorship_tag": "ABX9TyPND72PdZQPc4dsbm5APJkz",
      "include_colab_link": true
    },
    "kernelspec": {
      "name": "python3",
      "display_name": "Python 3"
    },
    "language_info": {
      "name": "python"
    }
  },
  "cells": [
    {
      "cell_type": "markdown",
      "metadata": {
        "id": "view-in-github",
        "colab_type": "text"
      },
      "source": [
        "<a href=\"https://colab.research.google.com/github/AvokrichA/Machine_learning/blob/main/Machine_learning_lection_2.ipynb\" target=\"_parent\"><img src=\"https://colab.research.google.com/assets/colab-badge.svg\" alt=\"Open In Colab\"/></a>"
      ]
    },
    {
      "cell_type": "markdown",
      "source": [
        "# Решение уравнения регрессии с помощью МНК.\n",
        "Пусть у нас есть пять точек и два вектора предсказаний – y1 и y2 – от двух разных\n",
        "моделей.\n"
      ],
      "metadata": {
        "id": "iH8mRcL6IJf-"
      }
    },
    {
      "cell_type": "code",
      "execution_count": null,
      "metadata": {
        "id": "5r0QcNJGHrff"
      },
      "outputs": [],
      "source": [
        "import numpy as np"
      ]
    },
    {
      "cell_type": "code",
      "source": [
        "x = np.array([1, 2, 3, 4, 5])\n",
        "y = np.array([1, 2, 3, 4, 5])\n",
        "y1 = np.array([1, 2, 3, 4, 5])\n",
        "y2 = np.array([1, 1, 4, 9, 0])"
      ],
      "metadata": {
        "id": "R5jDXI_mIvMu"
      },
      "execution_count": null,
      "outputs": []
    },
    {
      "cell_type": "markdown",
      "source": [
        "Отобразим их на графике:"
      ],
      "metadata": {
        "id": "JDFzmRJNI1SL"
      }
    },
    {
      "cell_type": "code",
      "source": [
        "%matplotlib inline\n",
        "import matplotlib.pyplot as plt\n",
        "plt.scatter(x, y, s=30)\n",
        "plt.plot(x, y1, 'g')\n",
        "plt.plot(x, y2, 'r')\n",
        "plt.xlabel('x')\n",
        "plt.ylabel('y')\n",
        "plt.show()\n"
      ],
      "metadata": {
        "colab": {
          "base_uri": "https://localhost:8080/",
          "height": 449
        },
        "id": "qth8xE4zI2HT",
        "outputId": "f25ea0ae-041e-4713-f2cb-0831906dcde4"
      },
      "execution_count": null,
      "outputs": [
        {
          "output_type": "display_data",
          "data": {
            "text/plain": [
              "<Figure size 640x480 with 1 Axes>"
            ],
            "image/png": "[encoded data removed]"
          },
          "metadata": {}
        }
      ]
    },
    {
      "cell_type": "markdown",
      "source": [
        "Очевидно, что зеленая линия, которая соответствует y1, имеет лучшую модель.\n",
        "Однако посчитаем ошибку по приведенной ранее формуле"
      ],
      "metadata": {
        "id": "9nV-gTzTI_9s"
      }
    },
    {
      "cell_type": "code",
      "source": [
        "err1 = sum(y1-y)\n",
        "err2 = sum(y2-y)\n",
        "print('ошибка err1:', err1)\n",
        "print('ошибка err2:', err2)"
      ],
      "metadata": {
        "colab": {
          "base_uri": "https://localhost:8080/"
        },
        "id": "AYNucxVIJArs",
        "outputId": "8311be74-711b-49ef-d6bc-96fa4f42a66f"
      },
      "execution_count": null,
      "outputs": [
        {
          "output_type": "stream",
          "name": "stdout",
          "text": [
            "ошибка err1: 0\n",
            "ошибка err2: 0\n"
          ]
        }
      ]
    },
    {
      "cell_type": "markdown",
      "source": [
        "Что мы получили? Первая модель предсказала вектор абсолютно верно, и\n",
        "ошибка равна нулю. Но вторая модель предсказала вектор неверно, а ошибка все\n",
        "равно равна нулю. Это произошло из-за взаимоуничтожения ошибок -1, 1 и -5, 5\n",
        "(если произвести в уме вычисления то так и получается). Такой результат нас не\n",
        "устаивает, поэтому давайте возводить результат в квадрат:\n"
      ],
      "metadata": {
        "id": "MCwEvlB3JKUj"
      }
    },
    {
      "cell_type": "code",
      "source": [
        "err1 = sum((y1-y)**2)\n",
        "err2 = sum((y2-y)**2)\n",
        "print('ошибка err1:', err1)\n",
        "print('ошибка err2:', err2)"
      ],
      "metadata": {
        "colab": {
          "base_uri": "https://localhost:8080/"
        },
        "id": "H96fsBheJSDS",
        "outputId": "a76f762f-abe8-4a07-aee1-a2cd06233979"
      },
      "execution_count": null,
      "outputs": [
        {
          "output_type": "stream",
          "name": "stdout",
          "text": [
            "ошибка err1: 0\n",
            "ошибка err2: 52\n"
          ]
        }
      ]
    },
    {
      "cell_type": "markdown",
      "source": [
        "Тогда мы будем минимизировать квадратичную функцию потерь. Этот метод\n",
        "называется методом наименьших квадратов или МНК."
      ],
      "metadata": {
        "id": "e2BXsyWZJeJz"
      }
    },
    {
      "cell_type": "markdown",
      "source": [],
      "metadata": {
        "id": "XcK2bwWDJlJZ"
      }
    }
  ]
}