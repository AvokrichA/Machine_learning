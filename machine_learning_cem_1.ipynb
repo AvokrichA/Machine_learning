{
  "nbformat": 4,
  "nbformat_minor": 0,
  "metadata": {
    "colab": {
      "provenance": [],
      "authorship_tag": "ABX9TyMADSaVne3rEdzjB7pZbER7",
      "include_colab_link": true
    },
    "kernelspec": {
      "name": "python3",
      "display_name": "Python 3"
    },
    "language_info": {
      "name": "python"
    }
  },
  "cells": [
    {
      "cell_type": "markdown",
      "metadata": {
        "id": "view-in-github",
        "colab_type": "text"
      },
      "source": [
        "<a href=\"https://colab.research.google.com/github/AvokrichA/Machine_learning/blob/main/machine_learning_cem_1.ipynb\" target=\"_parent\"><img src=\"https://colab.research.google.com/assets/colab-badge.svg\" alt=\"Open In Colab\"/></a>"
      ]
    },
    {
      "cell_type": "markdown",
      "source": [
        "Задание 1: Давайте вспомним, как загружать наборы данных. В течении курса мы\n",
        "будем использовать много разных датасетов, поэтому сейчас мы повторим как\n",
        "загружать датасеты, встроенные в библиотеку Sclearn, и так же повторим как это\n",
        "делать со сторонними наборами данных. Попробуйте загрузить встроенный датасет,\n",
        "например Boston House, а затем напишите, как бы вы подгрузили.\n",
        "Пример решения:\n",
        "Для того чтобы установить сторонний набор данных, нужно обязательно\n",
        "импортировать модуль Pandas:"
      ],
      "metadata": {
        "id": "D4LJsqDo_JYh"
      }
    },
    {
      "cell_type": "code",
      "execution_count": 9,
      "metadata": {
        "id": "VvWziQI7-9ah"
      },
      "outputs": [],
      "source": [
        "import pandas as pd\n",
        "import numpy as np"
      ]
    },
    {
      "cell_type": "code",
      "source": [
        "df = pd.read_csv('housing.csv')"
      ],
      "metadata": {
        "id": "rj4AndQ4_Tow"
      },
      "execution_count": 10,
      "outputs": []
    },
    {
      "cell_type": "code",
      "source": [
        "from sklearn import datasets\n",
        "breast_cancer_dataset = datasets.load_breast_cancer()"
      ],
      "metadata": {
        "id": "bj9WvoIC_gPf"
      },
      "execution_count": 11,
      "outputs": []
    },
    {
      "cell_type": "markdown",
      "source": [
        "Задание 2: Вам нужно рассчитать среднюю абсолютную ошибку (MAE) для\n",
        "заданного набора данных:"
      ],
      "metadata": {
        "id": "bHZP-M5xBi9k"
      }
    },
    {
      "cell_type": "code",
      "source": [
        "actual_values = np.array([100, 150, 200, 250])\n",
        "predicted_values = np.array([90, 140, 180, 270])\n",
        "print(actual_values)\n",
        "print(predicted_values)"
      ],
      "metadata": {
        "colab": {
          "base_uri": "https://localhost:8080/"
        },
        "id": "silISTNCBkcb",
        "outputId": "227513dc-9093-4a2a-eb2d-82085fcdf5a7"
      },
      "execution_count": 16,
      "outputs": [
        {
          "output_type": "stream",
          "name": "stdout",
          "text": [
            "[100 150 200 250]\n",
            "[ 90 140 180 270]\n"
          ]
        }
      ]
    },
    {
      "cell_type": "markdown",
      "source": [
        "Вам дан набор пар значений — фактические значения целевой\n",
        "переменной и предсказанные значения. Ваша задача — вычислить\n",
        "абсолютную разницу между фактическими и предсказанными\n",
        "значениями видео, затем найти среднее значение всех этих разниц.\n"
      ],
      "metadata": {
        "id": "M49IcigBCRtz"
      }
    },
    {
      "cell_type": "code",
      "source": [
        "# Расчет средней абсолютной ошибки (MAE)\n",
        "mae = np.mean(np.abs(actual_values - predicted_values))\n",
        "print(\"MAE:\", mae)"
      ],
      "metadata": {
        "colab": {
          "base_uri": "https://localhost:8080/"
        },
        "id": "H9bKoJ6tCUOG",
        "outputId": "c8a152b8-8156-413c-ec1d-674b716d2662"
      },
      "execution_count": 17,
      "outputs": [
        {
          "output_type": "stream",
          "name": "stdout",
          "text": [
            "MAE: 15.0\n"
          ]
        }
      ]
    },
    {
      "cell_type": "markdown",
      "source": [
        "Задание 3: рассчитать среднеквадратичную ошибку (MSE) для данного\n",
        "набора данных.\n"
      ],
      "metadata": {
        "id": "SZvqVSRjDQ3B"
      }
    },
    {
      "cell_type": "code",
      "source": [
        "# Расчет среднеквадратичной ошибки (MSE)\n",
        "mse = np.mean((actual_values - predicted_values) ** 2)\n",
        "print(\"MSE:\", mse)"
      ],
      "metadata": {
        "colab": {
          "base_uri": "https://localhost:8080/"
        },
        "id": "R8l9iQyCDR6E",
        "outputId": "7e56c19a-4941-496d-9096-bcfcfed773b5"
      },
      "execution_count": 18,
      "outputs": [
        {
          "output_type": "stream",
          "name": "stdout",
          "text": [
            "MSE: 250.0\n"
          ]
        }
      ]
    },
    {
      "cell_type": "markdown",
      "source": [
        "Рсчетсреднеквадратичной ошибки (MSE) и средней\n",
        "абсолютной ошибки (MAE) для данного набора данных без использования модели.\n",
        "Студенты должны использовать правильные значения фактической переменной и\n",
        "предсказанные значения для расчета функций потерь. Они также должны\n",
        "проанализировать результаты и объяснить, какие значения функции потерь\n",
        "указывают на лучшую точность предсказания."
      ],
      "metadata": {
        "id": "RUEr0uNiDwbN"
      }
    },
    {
      "cell_type": "code",
      "source": [
        "# Расчет среднеквадратичной ошибки (MSE)\n",
        "mse = np.mean((actual_values - predicted_values) ** 2)\n",
        "print(\"MSE:\", mse)\n",
        "# Расчет средней абсолютной ошибки (MAE)\n",
        "mae = np.mean(np.abs(actual_values - predicted_values))\n",
        "print(\"MAE:\", mae)"
      ],
      "metadata": {
        "colab": {
          "base_uri": "https://localhost:8080/"
        },
        "id": "Mvq6B7xgD36E",
        "outputId": "6512f64e-9387-4520-86ee-989138381c23"
      },
      "execution_count": 19,
      "outputs": [
        {
          "output_type": "stream",
          "name": "stdout",
          "text": [
            "MSE: 250.0\n",
            "MAE: 15.0\n"
          ]
        }
      ]
    }
  ]
}